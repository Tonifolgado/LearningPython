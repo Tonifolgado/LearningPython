{
 "cells": [
  {
   "cell_type": "markdown",
   "metadata": {},
   "source": [
    "## Create a PDF file in Python"
   ]
  },
  {
   "cell_type": "code",
   "execution_count": null,
   "metadata": {},
   "outputs": [],
   "source": [
    "%pip install fpdf\n",
    "\n",
    "from fpdf import FPDF\n",
    "pdf = FPDF()\n",
    "pdf.add_page()\n",
    "pdf.set_font('Arial', size=12)\n",
    "pdf.set_font('Arial', 'B', 16)\n",
    "pdf.cell(200, 10, txt=\"Welcome to Python!\", ln=1, align='C')\n",
    "pdf.set_font('Arial', size=12)\n",
    "pdf.multi_cell(0, 10, \"This is a PDF created using Python and the fpdf library.\")\n",
    "pdf.output(\"output.pdf\")\n",
    "print(\"PDF created successfully!\")"
   ]
  },
  {
   "cell_type": "markdown",
   "metadata": {},
   "source": [
    "## Automating file compression with GZIP"
   ]
  },
  {
   "cell_type": "code",
   "execution_count": null,
   "metadata": {},
   "outputs": [],
   "source": [
    "import gzip\n",
    "import shutil   \n",
    "\n",
    "def compress_file_gzip(input_path: str, output_path: str) -> bool:\n",
    "    \"\"\"\n",
    "    Compress a file using the Gzip protocol.\n",
    "    This function takes an input file path and an output file path, reads the content\n",
    "    of the input file, compresses it using Gzip protocol, and writes the compressed\n",
    "    data to the output file.\n",
    "    Args:\n",
    "        input_path (str): The path to the input file to be compressed.\n",
    "        output_path (str): The path where the compressed file will be written.\n",
    "    Returns:\n",
    "        bool: True if compression was successful, False otherwise.\n",
    "    Raises:\n",
    "        FileNotFoundError: If the input file does not exist.\n",
    "        PermissionError: If there are insufficient permissions to read the input file or write the output file.\n",
    "        IOError: If there's an error during file operations.\n",
    "    Note:\n",
    "        This function uses the GzipFile class from the gzip module, which provides\n",
    "        a file-like object for Gzip compression.\n",
    "    \"\"\"\n",
    "    try:\n",
    "        with open(input_path, 'rb') as f_in:\n",
    "            with gzip.open(output_path, 'wb') as f_out:\n",
    "                shutil.copyfileobj(f_in, f_out)\n",
    "        return True\n",
    "    except (FileNotFoundError, PermissionError, IOError) as e:\n",
    "        print(f\"Error during compression: {str(e)}\")\n",
    "        return False"
   ]
  },
  {
   "cell_type": "markdown",
   "metadata": {},
   "source": [
    "## Grammar Correction using Python"
   ]
  },
  {
   "cell_type": "code",
   "execution_count": null,
   "metadata": {},
   "outputs": [],
   "source": [
    "%pip install textblob\n",
    "\n",
    "from textblob import TextBlob\n",
    "\n",
    "def correct_grammar(text):\n",
    "    blob = TextBlob(text)\n",
    "    corrected_text = str(blob.correct())\n",
    "    return corrected_text\n",
    "\n",
    "text = input(\"Enter a sentence: \")\n",
    "corrected_text = correct_grammar(text)\n",
    "print(\"Corrected sentence:\", corrected_text)\n"
   ]
  },
  {
   "cell_type": "markdown",
   "metadata": {},
   "source": [
    "## IP Address Information using Python"
   ]
  },
  {
   "cell_type": "code",
   "execution_count": null,
   "metadata": {},
   "outputs": [],
   "source": [
    "import os\n",
    "import urllib.request as urllib2\n",
    "import json\n",
    "\n",
    "while True:\n",
    "    try:\n",
    "        ip = input(\"Enter target IP address: \")\n",
    "        url = \"http://ip-api.com/json/\"\n",
    "        response = urllib2.urlopen(url + ip)\n",
    "        data = response.read()\n",
    "        values = json.loads(data)\n",
    "        \n",
    "        print(\"IP:\", values['query'])\n",
    "        print(\"City:\", values['city'])\n",
    "        print(\"ISP:\", values['isp'])\n",
    "        print(\"Country:\", values['country'])\n",
    "        print(\"Region:\", values['region'])\n",
    "        print(\"ZIP code:\", values['zip'])\n",
    "        print(\"Timezone:\", values['timezone'])\n",
    "        print(\"Status:\", values['status'])\n",
    "        break\n",
    "    except:\n",
    "        print(\"Error\")"
   ]
  },
  {
   "cell_type": "markdown",
   "metadata": {},
   "source": [
    "## How to send an eMail with Python"
   ]
  },
  {
   "cell_type": "code",
   "execution_count": null,
   "metadata": {},
   "outputs": [],
   "source": [
    "import smtplib\n",
    "\n",
    "HOST = \"smtp.gmail.com\"\n",
    "SUBJECT = \"Test email from Python\"\n",
    "TO = \"toni.folgado@gmail.com\"\n",
    "FROM = \"toni.folgado@gmail.com\"\n",
    "text = \"Python hace de todo!\"\n",
    "BODY = \"\\r\\n\".join((\n",
    "    f\"From: {FROM}\",\n",
    "    f\"To: {TO}\",\n",
    "    f\"Subject: {SUBJECT}\",\n",
    "    \"\",\n",
    "    text\n",
    "))\n",
    "server = smtplib.SMTP(HOST)\n",
    "server.sendmail(FROM, [TO], BODY)\n",
    "server.quit()"
   ]
  },
  {
   "cell_type": "markdown",
   "metadata": {},
   "source": [
    "## Retrieve System Information using Python"
   ]
  },
  {
   "cell_type": "code",
   "execution_count": null,
   "metadata": {},
   "outputs": [],
   "source": [
    "%pip install pywin32\n",
    "%pip install wmi\n",
    "\n",
    "import wmi\n",
    "import win32com.client as win32\n",
    "\n",
    "def compress_file(input_file, output_file):\n",
    "    with open(input_file, 'rb') as f_in:\n",
    "        with gzip.open(output_file, 'wb') as f_out:\n",
    "            shutil.copyfileobj(f_in, f_out)\n",
    "\n",
    "# example usage\n",
    "compress_file('input.txt', 'output.txt.gz') # compress input.txt to output.txt.gz"
   ]
  },
  {
   "cell_type": "code",
   "execution_count": null,
   "metadata": {},
   "outputs": [],
   "source": [
    "# List of running processes using Python\n",
    "import psutil\n",
    "\n",
    "for proc in psutil.process_iter(['pid', 'name', 'status', 'username']):\n",
    "    try:\n",
    "        pid = proc.info['pid']\n",
    "        name = proc.info['name'] or \"N/A\"\n",
    "        status = proc.info['status'] or \"N/A\"\n",
    "        username = proc.info['username'] or \"N/A\"\n",
    "        print(f\"PID: {pid}, Name: {name}, Status: {status}, Username: {username}\")\n",
    "    except (psutil.NoSuchProcess, psutil.AccessDenied, psutil.ZombieProcess):\n",
    "        pass\n"
   ]
  },
  {
   "cell_type": "markdown",
   "metadata": {},
   "source": [
    "## Password Authentication using Python"
   ]
  },
  {
   "cell_type": "code",
   "execution_count": 5,
   "metadata": {},
   "outputs": [
    {
     "name": "stdout",
     "output_type": "stream",
     "text": [
      "Verified\n"
     ]
    }
   ],
   "source": [
    "import getpass\n",
    "database = {\"clcoding\":\"778899\", \"pythonclcoding\":\"2502\"}\n",
    "username = input(\"Enter Your Username : \")\n",
    "password = getpass.getpass(\"Enter Your Password : \")\n",
    "for i in database.keys():\n",
    "    if username == i:\n",
    "        while password != database.get(i):\n",
    "            password = getpass.getpass(\"Enter Your Password Again : \")\n",
    "        break\n",
    "    \n",
    "print(\"Verified\")\n"
   ]
  },
  {
   "cell_type": "markdown",
   "metadata": {},
   "source": [
    "## Get details of an element by atomic number"
   ]
  },
  {
   "cell_type": "code",
   "execution_count": 2,
   "metadata": {},
   "outputs": [
    {
     "name": "stderr",
     "output_type": "stream",
     "text": [
      "406.22s - pydevd: Sending message related to process being replaced timed-out after 5 seconds\n"
     ]
    },
    {
     "name": "stdout",
     "output_type": "stream",
     "text": [
      "Defaulting to user installation because normal site-packages is not writeable\n",
      "Collecting periodictable\n",
      "  Downloading periodictable-2.0.2-py3-none-any.whl.metadata (5.4 kB)\n",
      "Collecting pyparsing (from periodictable)\n",
      "  Downloading pyparsing-3.2.1-py3-none-any.whl.metadata (5.0 kB)\n",
      "Collecting numpy (from periodictable)\n",
      "  Downloading numpy-2.0.2-cp39-cp39-macosx_14_0_arm64.whl.metadata (60 kB)\n",
      "Downloading periodictable-2.0.2-py3-none-any.whl (811 kB)\n",
      "\u001b[2K   \u001b[90m━━━━━━━━━━━━━━━━━━━━━━━━━━━━━━━━━━━━━━━━\u001b[0m \u001b[32m811.1/811.1 kB\u001b[0m \u001b[31m17.7 MB/s\u001b[0m eta \u001b[36m0:00:00\u001b[0m\n",
      "\u001b[?25hDownloading numpy-2.0.2-cp39-cp39-macosx_14_0_arm64.whl (5.3 MB)\n",
      "\u001b[2K   \u001b[90m━━━━━━━━━━━━━━━━━━━━━━━━━━━━━━━━━━━━━━━━\u001b[0m \u001b[32m5.3/5.3 MB\u001b[0m \u001b[31m40.5 MB/s\u001b[0m eta \u001b[36m0:00:00\u001b[0m\n",
      "\u001b[?25hDownloading pyparsing-3.2.1-py3-none-any.whl (107 kB)\n",
      "Installing collected packages: pyparsing, numpy, periodictable\n",
      "Successfully installed numpy-2.0.2 periodictable-2.0.2 pyparsing-3.2.1\n",
      "\n",
      "\u001b[1m[\u001b[0m\u001b[34;49mnotice\u001b[0m\u001b[1;39;49m]\u001b[0m\u001b[39;49m A new release of pip is available: \u001b[0m\u001b[31;49m24.2\u001b[0m\u001b[39;49m -> \u001b[0m\u001b[32;49m25.0.1\u001b[0m\n",
      "\u001b[1m[\u001b[0m\u001b[34;49mnotice\u001b[0m\u001b[1;39;49m]\u001b[0m\u001b[39;49m To update, run: \u001b[0m\u001b[32;49m/Library/Developer/CommandLineTools/usr/bin/python3 -m pip install --upgrade pip\u001b[0m\n",
      "Note: you may need to restart the kernel to use updated packages.\n",
      "Element Name:  vanadium\n",
      "Element Symbol:  V\n",
      "Element Atomic Number:  23\n",
      "Element Atomic Mass:  50.9415\n",
      "Element Density:  6.11\n"
     ]
    }
   ],
   "source": [
    "%pip install periodictable\n",
    "import periodictable as pt\n",
    "# Get details of an element by atomic number\n",
    "Atomic_No = int(input(\"Enter Atomic Number of Element: \"))\n",
    "element = pt.elements[Atomic_No]\n",
    "print(\"Element Name: \", element.name)\n",
    "print(\"Element Symbol: \", element.symbol)\n",
    "print(\"Element Atomic Number: \", element.number)\n",
    "print(\"Element Atomic Mass: \", element.mass)\n",
    "print(\"Element Density: \", element.density)"
   ]
  },
  {
   "cell_type": "markdown",
   "metadata": {},
   "source": [
    "## Python Decorator\n",
    "A decorator in Python is a function that modifies or enhances another function without changing its definition. \n",
    "It's commonly used to add functionality to functions or methods. "
   ]
  },
  {
   "cell_type": "code",
   "execution_count": null,
   "metadata": {},
   "outputs": [],
   "source": [
    "# Decorator function that prints the function name before and after its execution\n",
    "def log_function_call(func):\n",
    "    def wrapper(*args, **kwargs):\n",
    "        print(f\"Calling function: {func.__name__}\")\n",
    "        result = func(*args, **kwargs)\n",
    "        print(f\"Function {func.__name__} completed\")\n",
    "        return result\n",
    "    return wrapper\n",
    "\n",
    "# you can use decorator funtion using @ symbol\n",
    "@log_function_call\n",
    "def add(a, b):\n",
    "    return a + b\n",
    "result = add(3, 5)\n",
    "print(f\"Result: {result}\")"
   ]
  }
 ],
 "metadata": {
  "kernelspec": {
   "display_name": "Python 3",
   "language": "python",
   "name": "python3"
  },
  "language_info": {
   "codemirror_mode": {
    "name": "ipython",
    "version": 3
   },
   "file_extension": ".py",
   "mimetype": "text/x-python",
   "name": "python",
   "nbconvert_exporter": "python",
   "pygments_lexer": "ipython3",
   "version": "3.9.6"
  }
 },
 "nbformat": 4,
 "nbformat_minor": 2
}
