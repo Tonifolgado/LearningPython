{
 "cells": [
  {
   "cell_type": "markdown",
   "metadata": {},
   "source": [
    "## Create a PDF file in Python"
   ]
  },
  {
   "cell_type": "code",
   "execution_count": null,
   "metadata": {},
   "outputs": [],
   "source": [
    "%pip install fpdf\n",
    "\n",
    "from fpdf import FPDF\n",
    "pdf = FPDF()\n",
    "pdf.add_page()\n",
    "pdf.set_font('Arial', size=12)\n",
    "pdf.set_font('Arial', 'B', 16)\n",
    "pdf.cell(200, 10, txt=\"Welcome to Python!\", ln=1, align='C')\n",
    "pdf.set_font('Arial', size=12)\n",
    "pdf.multi_cell(0, 10, \"This is a PDF created using Python and the fpdf library.\")\n",
    "pdf.output(\"output.pdf\")\n",
    "print(\"PDF created successfully!\")"
   ]
  },
  {
   "cell_type": "markdown",
   "metadata": {},
   "source": [
    "## Grammar Correction using Python"
   ]
  },
  {
   "cell_type": "code",
   "execution_count": null,
   "metadata": {},
   "outputs": [],
   "source": [
    "%pip install textblob\n",
    "\n",
    "from textblob import TextBlob\n",
    "\n",
    "def correct_grammar(text):\n",
    "    blob = TextBlob(text)\n",
    "    corrected_text = str(blob.correct())\n",
    "    return corrected_text\n",
    "\n",
    "text = input(\"Enter a sentence: \")\n",
    "corrected_text = correct_grammar(text)\n",
    "print(\"Corrected sentence:\", corrected_text)\n"
   ]
  },
  {
   "cell_type": "markdown",
   "metadata": {},
   "source": [
    "## IP Address Information using Python"
   ]
  },
  {
   "cell_type": "code",
   "execution_count": null,
   "metadata": {},
   "outputs": [],
   "source": [
    "import os\n",
    "import urllib.request as urllib2\n",
    "import json\n",
    "\n",
    "while True:\n",
    "    try:\n",
    "        ip = input(\"Enter target IP address: \")\n",
    "        url = \"http://ip-api.com/json/\"\n",
    "        response = urllib2.urlopen(url + ip)\n",
    "        data = response.read()\n",
    "        values = json.loads(data)\n",
    "        \n",
    "        print(\"IP:\", values['query'])\n",
    "        print(\"City:\", values['city'])\n",
    "        print(\"ISP:\", values['isp'])\n",
    "        print(\"Country:\", values['country'])\n",
    "        print(\"Region:\", values['region'])\n",
    "        print(\"ZIP code:\", values['zip'])\n",
    "        print(\"Timezone:\", values['timezone'])\n",
    "        print(\"Status:\", values['status'])\n",
    "        break\n",
    "    except:\n",
    "        print(\"Error\")"
   ]
  },
  {
   "cell_type": "markdown",
   "metadata": {},
   "source": [
    "## How to send an eMail with Python"
   ]
  },
  {
   "cell_type": "code",
   "execution_count": null,
   "metadata": {},
   "outputs": [],
   "source": [
    "import smtplib\n",
    "\n",
    "HOST = \"smtp.gmail.com\"\n",
    "SUBJECT = \"Test email from Python\"\n",
    "TO = \"toni.folgado@gmail.com\"\n",
    "FROM = \"toni.folgado@gmail.com\"\n",
    "text = \"Python hace de todo!\"\n",
    "BODY = \"\\r\\n\".join((\n",
    "    f\"From: {FROM}\",\n",
    "    f\"To: {TO}\",\n",
    "    f\"Subject: {SUBJECT}\",\n",
    "    \"\",\n",
    "    text\n",
    "))\n",
    "server = smtplib.SMTP(HOST)\n",
    "server.sendmail(FROM, [TO], BODY)\n",
    "server.quit()"
   ]
  },
  {
   "cell_type": "markdown",
   "metadata": {},
   "source": [
    "## Retrieve System Information using Python"
   ]
  },
  {
   "cell_type": "code",
   "execution_count": 4,
   "metadata": {},
   "outputs": [
    {
     "name": "stdout",
     "output_type": "stream",
     "text": [
      "Defaulting to user installation because normal site-packages is not writeable\n",
      "\u001b[31mERROR: Could not find a version that satisfies the requirement pywin32 (from versions: none)\u001b[0m\u001b[31m\n",
      "\u001b[0m\n",
      "\u001b[1m[\u001b[0m\u001b[34;49mnotice\u001b[0m\u001b[1;39;49m]\u001b[0m\u001b[39;49m A new release of pip is available: \u001b[0m\u001b[31;49m24.2\u001b[0m\u001b[39;49m -> \u001b[0m\u001b[32;49m24.3.1\u001b[0m\n",
      "\u001b[1m[\u001b[0m\u001b[34;49mnotice\u001b[0m\u001b[1;39;49m]\u001b[0m\u001b[39;49m To update, run: \u001b[0m\u001b[32;49m/Library/Developer/CommandLineTools/usr/bin/python3 -m pip install --upgrade pip\u001b[0m\n",
      "\u001b[31mERROR: No matching distribution found for pywin32\u001b[0m\u001b[31m\n",
      "\u001b[0mNote: you may need to restart the kernel to use updated packages.\n",
      "Defaulting to user installation because normal site-packages is not writeable\n",
      "Requirement already satisfied: wmi in /Users/antonioalvarezfolgado/Library/Python/3.9/lib/python/site-packages (1.4.9)\n",
      "\n",
      "\u001b[1m[\u001b[0m\u001b[34;49mnotice\u001b[0m\u001b[1;39;49m]\u001b[0m\u001b[39;49m A new release of pip is available: \u001b[0m\u001b[31;49m24.2\u001b[0m\u001b[39;49m -> \u001b[0m\u001b[32;49m24.3.1\u001b[0m\n",
      "\u001b[1m[\u001b[0m\u001b[34;49mnotice\u001b[0m\u001b[1;39;49m]\u001b[0m\u001b[39;49m To update, run: \u001b[0m\u001b[32;49m/Library/Developer/CommandLineTools/usr/bin/python3 -m pip install --upgrade pip\u001b[0m\n",
      "Note: you may need to restart the kernel to use updated packages.\n"
     ]
    },
    {
     "ename": "ModuleNotFoundError",
     "evalue": "No module named 'win32com'",
     "output_type": "error",
     "traceback": [
      "\u001b[0;31m---------------------------------------------------------------------------\u001b[0m",
      "\u001b[0;31mModuleNotFoundError\u001b[0m                       Traceback (most recent call last)",
      "Cell \u001b[0;32mIn[4], line 4\u001b[0m\n\u001b[1;32m      1\u001b[0m get_ipython()\u001b[38;5;241m.\u001b[39mrun_line_magic(\u001b[38;5;124m'\u001b[39m\u001b[38;5;124mpip\u001b[39m\u001b[38;5;124m'\u001b[39m, \u001b[38;5;124m'\u001b[39m\u001b[38;5;124minstall pywin32\u001b[39m\u001b[38;5;124m'\u001b[39m)\n\u001b[1;32m      2\u001b[0m get_ipython()\u001b[38;5;241m.\u001b[39mrun_line_magic(\u001b[38;5;124m'\u001b[39m\u001b[38;5;124mpip\u001b[39m\u001b[38;5;124m'\u001b[39m, \u001b[38;5;124m'\u001b[39m\u001b[38;5;124minstall wmi\u001b[39m\u001b[38;5;124m'\u001b[39m)\n\u001b[0;32m----> 4\u001b[0m \u001b[38;5;28;01mimport\u001b[39;00m \u001b[38;5;21;01mwmi\u001b[39;00m\n\u001b[1;32m      5\u001b[0m \u001b[38;5;28;01mimport\u001b[39;00m \u001b[38;5;21;01mwin32com\u001b[39;00m\u001b[38;5;21;01m.\u001b[39;00m\u001b[38;5;21;01mclient\u001b[39;00m \u001b[38;5;28;01mas\u001b[39;00m \u001b[38;5;21;01mwin32\u001b[39;00m\n\u001b[1;32m      7\u001b[0m c \u001b[38;5;241m=\u001b[39m wmi\u001b[38;5;241m.\u001b[39mWMI()\n",
      "File \u001b[0;32m~/Library/Python/3.9/lib/python/site-packages/wmi.py:88\u001b[0m\n\u001b[1;32m     85\u001b[0m \u001b[38;5;28;01mimport\u001b[39;00m \u001b[38;5;21;01mstruct\u001b[39;00m\n\u001b[1;32m     86\u001b[0m \u001b[38;5;28;01mimport\u001b[39;00m \u001b[38;5;21;01mwarnings\u001b[39;00m\n\u001b[0;32m---> 88\u001b[0m \u001b[38;5;28;01mfrom\u001b[39;00m \u001b[38;5;21;01mwin32com\u001b[39;00m\u001b[38;5;21;01m.\u001b[39;00m\u001b[38;5;21;01mclient\u001b[39;00m \u001b[38;5;28;01mimport\u001b[39;00m GetObject, Dispatch\n\u001b[1;32m     89\u001b[0m \u001b[38;5;28;01mimport\u001b[39;00m \u001b[38;5;21;01mpywintypes\u001b[39;00m\n\u001b[1;32m     91\u001b[0m \u001b[38;5;28;01mdef\u001b[39;00m \u001b[38;5;21msigned_to_unsigned\u001b[39m (signed):\n",
      "\u001b[0;31mModuleNotFoundError\u001b[0m: No module named 'win32com'"
     ]
    }
   ],
   "source": [
    "%pip install pywin32\n",
    "%pip install wmi\n",
    "\n",
    "import wmi\n",
    "import win32com.client as win32\n",
    "\n",
    "c = wmi.WMI()\n",
    "\n",
    "for os in c.Win32_OperatingSystem():\n",
    "    print(os.Caption)\n",
    "    print(os.OSArchitecture)\n",
    "    print(os.Version)\n",
    "    print(os.Manufacturer)\n",
    "    print(os.LastBootUpTime)\n",
    "    print(os.NumberOfProcesses)\n",
    "    print(os.NumberOfUsers)\n",
    "    print(os.SerialNumber)\n",
    "    print(os.WindowsDirectory)\n",
    "    \n",
    "    "
   ]
  },
  {
   "cell_type": "markdown",
   "metadata": {},
   "source": [
    "## Password Authentication using Python"
   ]
  },
  {
   "cell_type": "code",
   "execution_count": 5,
   "metadata": {},
   "outputs": [
    {
     "name": "stdout",
     "output_type": "stream",
     "text": [
      "Verified\n"
     ]
    }
   ],
   "source": [
    "import getpass\n",
    "database = {\"clcoding\":\"778899\", \"pythonclcoding\":\"2502\"}\n",
    "username = input(\"Enter Your Username : \")\n",
    "password = getpass.getpass(\"Enter Your Password : \")\n",
    "for i in database.keys():\n",
    "    if username == i:\n",
    "        while password != database.get(i):\n",
    "            password = getpass.getpass(\"Enter Your Password Again : \")\n",
    "        break\n",
    "    \n",
    "print(\"Verified\")\n"
   ]
  }
 ],
 "metadata": {
  "kernelspec": {
   "display_name": "Python 3",
   "language": "python",
   "name": "python3"
  },
  "language_info": {
   "codemirror_mode": {
    "name": "ipython",
    "version": 3
   },
   "file_extension": ".py",
   "mimetype": "text/x-python",
   "name": "python",
   "nbconvert_exporter": "python",
   "pygments_lexer": "ipython3",
   "version": "3.9.6"
  }
 },
 "nbformat": 4,
 "nbformat_minor": 2
}
