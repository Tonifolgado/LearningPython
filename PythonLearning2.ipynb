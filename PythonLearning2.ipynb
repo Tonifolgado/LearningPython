{
 "cells": [
  {
   "cell_type": "markdown",
   "metadata": {},
   "source": [
    "## Create a PDF file in Python"
   ]
  },
  {
   "cell_type": "code",
   "execution_count": 1,
   "metadata": {},
   "outputs": [
    {
     "name": "stdout",
     "output_type": "stream",
     "text": [
      "Defaulting to user installation because normal site-packages is not writeable\n",
      "Collecting fpdf\n",
      "  Downloading fpdf-1.7.2.tar.gz (39 kB)\n",
      "  Preparing metadata (setup.py) ... \u001b[?25ldone\n",
      "\u001b[?25hBuilding wheels for collected packages: fpdf\n",
      "  Building wheel for fpdf (setup.py) ... \u001b[?25ldone\n",
      "\u001b[?25h  Created wheel for fpdf: filename=fpdf-1.7.2-py2.py3-none-any.whl size=40704 sha256=13aee5ad39465b63beae4534276ca76071c83e613b9d4d715085d647c3dbd1cc\n",
      "  Stored in directory: /Users/antonioalvarezfolgado/Library/Caches/pip/wheels/44/35/8b/86ce00cec7e4d13c5f189680ae0fa82f919bedc066c2cddae9\n",
      "Successfully built fpdf\n",
      "Installing collected packages: fpdf\n",
      "Successfully installed fpdf-1.7.2\n",
      "\n",
      "\u001b[1m[\u001b[0m\u001b[34;49mnotice\u001b[0m\u001b[1;39;49m]\u001b[0m\u001b[39;49m A new release of pip is available: \u001b[0m\u001b[31;49m24.2\u001b[0m\u001b[39;49m -> \u001b[0m\u001b[32;49m24.3.1\u001b[0m\n",
      "\u001b[1m[\u001b[0m\u001b[34;49mnotice\u001b[0m\u001b[1;39;49m]\u001b[0m\u001b[39;49m To update, run: \u001b[0m\u001b[32;49m/Library/Developer/CommandLineTools/usr/bin/python3 -m pip install --upgrade pip\u001b[0m\n",
      "Note: you may need to restart the kernel to use updated packages.\n",
      "PDF created successfully!\n"
     ]
    }
   ],
   "source": [
    "%pip install fpdf\n",
    "\n",
    "from fpdf import FPDF\n",
    "pdf = FPDF()\n",
    "pdf.add_page()\n",
    "pdf.set_font('Arial', size=12)\n",
    "pdf.set_font('Arial', 'B', 16)\n",
    "pdf.cell(200, 10, txt=\"Welcome to Python!\", ln=1, align='C')\n",
    "pdf.set_font('Arial', size=12)\n",
    "pdf.multi_cell(0, 10, \"This is a PDF created using Python and the fpdf library.\")\n",
    "pdf.output(\"output.pdf\")\n",
    "print(\"PDF created successfully!\")"
   ]
  },
  {
   "cell_type": "markdown",
   "metadata": {},
   "source": [
    "## Grammar Correction using Python"
   ]
  },
  {
   "cell_type": "code",
   "execution_count": 2,
   "metadata": {},
   "outputs": [
    {
     "name": "stdout",
     "output_type": "stream",
     "text": [
      "Defaulting to user installation because normal site-packages is not writeable\n",
      "Collecting textblob\n",
      "  Downloading textblob-0.18.0.post0-py3-none-any.whl.metadata (4.5 kB)\n",
      "Collecting nltk>=3.8 (from textblob)\n",
      "  Downloading nltk-3.9.1-py3-none-any.whl.metadata (2.9 kB)\n",
      "Requirement already satisfied: click in /Users/antonioalvarezfolgado/Library/Python/3.9/lib/python/site-packages (from nltk>=3.8->textblob) (8.1.7)\n",
      "Collecting joblib (from nltk>=3.8->textblob)\n",
      "  Downloading joblib-1.4.2-py3-none-any.whl.metadata (5.4 kB)\n",
      "Collecting regex>=2021.8.3 (from nltk>=3.8->textblob)\n",
      "  Downloading regex-2024.11.6-cp39-cp39-macosx_11_0_arm64.whl.metadata (40 kB)\n",
      "Collecting tqdm (from nltk>=3.8->textblob)\n",
      "  Downloading tqdm-4.67.1-py3-none-any.whl.metadata (57 kB)\n",
      "Downloading textblob-0.18.0.post0-py3-none-any.whl (626 kB)\n",
      "\u001b[2K   \u001b[90m━━━━━━━━━━━━━━━━━━━━━━━━━━━━━━━━━━━━━━━━\u001b[0m \u001b[32m626.3/626.3 kB\u001b[0m \u001b[31m7.9 MB/s\u001b[0m eta \u001b[36m0:00:00\u001b[0m\n",
      "\u001b[?25hDownloading nltk-3.9.1-py3-none-any.whl (1.5 MB)\n",
      "\u001b[2K   \u001b[90m━━━━━━━━━━━━━━━━━━━━━━━━━━━━━━━━━━━━━━━━\u001b[0m \u001b[32m1.5/1.5 MB\u001b[0m \u001b[31m33.7 MB/s\u001b[0m eta \u001b[36m0:00:00\u001b[0m\n",
      "\u001b[?25hDownloading regex-2024.11.6-cp39-cp39-macosx_11_0_arm64.whl (284 kB)\n",
      "Downloading joblib-1.4.2-py3-none-any.whl (301 kB)\n",
      "Downloading tqdm-4.67.1-py3-none-any.whl (78 kB)\n",
      "Installing collected packages: tqdm, regex, joblib, nltk, textblob\n",
      "Successfully installed joblib-1.4.2 nltk-3.9.1 regex-2024.11.6 textblob-0.18.0.post0 tqdm-4.67.1\n",
      "\n",
      "\u001b[1m[\u001b[0m\u001b[34;49mnotice\u001b[0m\u001b[1;39;49m]\u001b[0m\u001b[39;49m A new release of pip is available: \u001b[0m\u001b[31;49m24.2\u001b[0m\u001b[39;49m -> \u001b[0m\u001b[32;49m24.3.1\u001b[0m\n",
      "\u001b[1m[\u001b[0m\u001b[34;49mnotice\u001b[0m\u001b[1;39;49m]\u001b[0m\u001b[39;49m To update, run: \u001b[0m\u001b[32;49m/Library/Developer/CommandLineTools/usr/bin/python3 -m pip install --upgrade pip\u001b[0m\n",
      "Note: you may need to restart the kernel to use updated packages.\n",
      "Corrected sentence: To es un frame, a ver quotas est escrita\n"
     ]
    }
   ],
   "source": [
    "%pip install textblob\n",
    "\n",
    "from textblob import TextBlob\n",
    "\n",
    "def correct_grammar(text):\n",
    "    blob = TextBlob(text)\n",
    "    corrected_text = str(blob.correct())\n",
    "    return corrected_text\n",
    "\n",
    "text = input(\"Enter a sentence: \")\n",
    "corrected_text = correct_grammar(text)\n",
    "print(\"Corrected sentence:\", corrected_text)\n"
   ]
  },
  {
   "cell_type": "markdown",
   "metadata": {},
   "source": [
    "## IP Address Information using Python"
   ]
  },
  {
   "cell_type": "code",
   "execution_count": 2,
   "metadata": {},
   "outputs": [
    {
     "name": "stdout",
     "output_type": "stream",
     "text": [
      "IP: 100.100.100.10\n",
      "Error\n",
      "IP: 84.77.64.138\n",
      "City: el Prat de Llobregat\n",
      "ISP: YIF Network\n",
      "Country: Spain\n",
      "Region: CT\n",
      "ZIP code: 08820\n",
      "Timezone: Europe/Madrid\n",
      "Status: success\n"
     ]
    }
   ],
   "source": [
    "import os\n",
    "import urllib.request as urllib2\n",
    "import json\n",
    "\n",
    "while True:\n",
    "    try:\n",
    "        ip = input(\"Enter target IP address: \")\n",
    "        url = \"http://ip-api.com/json/\"\n",
    "        response = urllib2.urlopen(url + ip)\n",
    "        data = response.read()\n",
    "        values = json.loads(data)\n",
    "        \n",
    "        print(\"IP:\", values['query'])\n",
    "        print(\"City:\", values['city'])\n",
    "        print(\"ISP:\", values['isp'])\n",
    "        print(\"Country:\", values['country'])\n",
    "        print(\"Region:\", values['region'])\n",
    "        print(\"ZIP code:\", values['zip'])\n",
    "        print(\"Timezone:\", values['timezone'])\n",
    "        print(\"Status:\", values['status'])\n",
    "        break\n",
    "    except:\n",
    "        print(\"Error\")"
   ]
  },
  {
   "cell_type": "markdown",
   "metadata": {},
   "source": [
    "## How to send an eMail with Python"
   ]
  },
  {
   "cell_type": "code",
   "execution_count": 3,
   "metadata": {},
   "outputs": [
    {
     "ename": "SMTPSenderRefused",
     "evalue": "(530, b'5.7.0 Must issue a STARTTLS command first. For more information, go to\\n5.7.0  https://support.google.com/a/answer/3221692 and review RFC 3207\\n5.7.0 specifications. ffacd0b85a97d-38a8e4b8214sm7866995f8f.78 - gsmtp', 'toni.folgado@gmail.com')",
     "output_type": "error",
     "traceback": [
      "\u001b[0;31m---------------------------------------------------------------------------\u001b[0m",
      "\u001b[0;31mSMTPSenderRefused\u001b[0m                         Traceback (most recent call last)",
      "Cell \u001b[0;32mIn[3], line 16\u001b[0m\n\u001b[1;32m      8\u001b[0m BODY \u001b[38;5;241m=\u001b[39m \u001b[38;5;124m\"\u001b[39m\u001b[38;5;130;01m\\r\u001b[39;00m\u001b[38;5;130;01m\\n\u001b[39;00m\u001b[38;5;124m\"\u001b[39m\u001b[38;5;241m.\u001b[39mjoin((\n\u001b[1;32m      9\u001b[0m     \u001b[38;5;124mf\u001b[39m\u001b[38;5;124m\"\u001b[39m\u001b[38;5;124mFrom: \u001b[39m\u001b[38;5;132;01m{\u001b[39;00mFROM\u001b[38;5;132;01m}\u001b[39;00m\u001b[38;5;124m\"\u001b[39m,\n\u001b[1;32m     10\u001b[0m     \u001b[38;5;124mf\u001b[39m\u001b[38;5;124m\"\u001b[39m\u001b[38;5;124mTo: \u001b[39m\u001b[38;5;132;01m{\u001b[39;00mTO\u001b[38;5;132;01m}\u001b[39;00m\u001b[38;5;124m\"\u001b[39m,\n\u001b[0;32m   (...)\u001b[0m\n\u001b[1;32m     13\u001b[0m     text\n\u001b[1;32m     14\u001b[0m ))\n\u001b[1;32m     15\u001b[0m server \u001b[38;5;241m=\u001b[39m smtplib\u001b[38;5;241m.\u001b[39mSMTP(HOST)\n\u001b[0;32m---> 16\u001b[0m \u001b[43mserver\u001b[49m\u001b[38;5;241;43m.\u001b[39;49m\u001b[43msendmail\u001b[49m\u001b[43m(\u001b[49m\u001b[43mFROM\u001b[49m\u001b[43m,\u001b[49m\u001b[43m \u001b[49m\u001b[43m[\u001b[49m\u001b[43mTO\u001b[49m\u001b[43m]\u001b[49m\u001b[43m,\u001b[49m\u001b[43m \u001b[49m\u001b[43mBODY\u001b[49m\u001b[43m)\u001b[49m\n\u001b[1;32m     17\u001b[0m server\u001b[38;5;241m.\u001b[39mquit()\n",
      "File \u001b[0;32m/Library/Developer/CommandLineTools/Library/Frameworks/Python3.framework/Versions/3.9/lib/python3.9/smtplib.py:882\u001b[0m, in \u001b[0;36mSMTP.sendmail\u001b[0;34m(self, from_addr, to_addrs, msg, mail_options, rcpt_options)\u001b[0m\n\u001b[1;32m    880\u001b[0m     \u001b[38;5;28;01melse\u001b[39;00m:\n\u001b[1;32m    881\u001b[0m         \u001b[38;5;28mself\u001b[39m\u001b[38;5;241m.\u001b[39m_rset()\n\u001b[0;32m--> 882\u001b[0m     \u001b[38;5;28;01mraise\u001b[39;00m SMTPSenderRefused(code, resp, from_addr)\n\u001b[1;32m    883\u001b[0m senderrs \u001b[38;5;241m=\u001b[39m {}\n\u001b[1;32m    884\u001b[0m \u001b[38;5;28;01mif\u001b[39;00m \u001b[38;5;28misinstance\u001b[39m(to_addrs, \u001b[38;5;28mstr\u001b[39m):\n",
      "\u001b[0;31mSMTPSenderRefused\u001b[0m: (530, b'5.7.0 Must issue a STARTTLS command first. For more information, go to\\n5.7.0  https://support.google.com/a/answer/3221692 and review RFC 3207\\n5.7.0 specifications. ffacd0b85a97d-38a8e4b8214sm7866995f8f.78 - gsmtp', 'toni.folgado@gmail.com')"
     ]
    }
   ],
   "source": [
    "import smtplib\n",
    "\n",
    "HOST = \"smtp.gmail.com\"\n",
    "SUBJECT = \"Test email from Python\"\n",
    "TO = \"toni.folgado@gmail.com\"\n",
    "FROM = \"toni.folgado@gmail.com\"\n",
    "text = \"Python hace de todo!\"\n",
    "BODY = \"\\r\\n\".join((\n",
    "    f\"From: {FROM}\",\n",
    "    f\"To: {TO}\",\n",
    "    f\"Subject: {SUBJECT}\",\n",
    "    \"\",\n",
    "    text\n",
    "))\n",
    "server = smtplib.SMTP(HOST)\n",
    "server.sendmail(FROM, [TO], BODY)\n",
    "server.quit()"
   ]
  }
 ],
 "metadata": {
  "kernelspec": {
   "display_name": "Python 3",
   "language": "python",
   "name": "python3"
  },
  "language_info": {
   "codemirror_mode": {
    "name": "ipython",
    "version": 3
   },
   "file_extension": ".py",
   "mimetype": "text/x-python",
   "name": "python",
   "nbconvert_exporter": "python",
   "pygments_lexer": "ipython3",
   "version": "3.9.6"
  }
 },
 "nbformat": 4,
 "nbformat_minor": 2
}
