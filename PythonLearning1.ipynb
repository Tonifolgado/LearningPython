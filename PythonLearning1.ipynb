{
 "cells": [
  {
   "cell_type": "markdown",
   "id": "bfbe9040",
   "metadata": {},
   "source": [
    "## Basic Concepts 1 (tipos de datos)"
   ]
  },
  {
   "cell_type": "code",
   "execution_count": null,
   "id": "0b12d68f-c3d3-4afd-bf4b-d0119ec4998e",
   "metadata": {},
   "outputs": [],
   "source": [
    "# Cómo consultar el tipo de dato\n",
    "entero = 10\n",
    "print(type(\"Soy un dato str\"))  # Tipo 'str'\n",
    "print(type(5))  # Tipo 'int'\n",
    "print(type(1.5))  # Tipo 'float'\n",
    "print(type(3 + 1j))  # Tipo 'complex'\n",
    "print(type(True))  # Tipo 'bool'\n",
    "print(type(print(\"Mi cadena de texto\")))  # Tipo 'NoneType'\n",
    "print(f\"Integer is {entero}. It's type is {type(entero)}\")"
   ]
  },
  {
   "cell_type": "markdown",
   "id": "ad4563e7-1a6d-42dc-a0dc-0bc5a44f5f1f",
   "metadata": {},
   "source": [
    "## Basic concepts 2 (strings, variables, numbers, user inputs)"
   ]
  },
  {
   "cell_type": "code",
   "execution_count": null,
   "id": "3d864d30-428e-4e49-a4b1-7331f2bbd692",
   "metadata": {},
   "outputs": [],
   "source": [
    "print('Hello, World!')\n",
    "''' print() functions as new line character by default and you can override this default behavior as follows:\n",
    "    any string passed as the value of the end parameter will be used as the terminating character of the printed line'''\n",
    "print('Hello, World!', end=' | ')\n",
    "print(100, end=' | ')\n",
    "print(5 + 5)"
   ]
  },
  {
   "cell_type": "code",
   "execution_count": null,
   "id": "3f23db88-caef-4fc0-bf2f-a3605af447ca",
   "metadata": {},
   "outputs": [],
   "source": [
    "# VARIABLES\n",
    "name = 'Farhan'\n",
    "age = 27\n",
    "print('My name is ' + name)\n",
    "# print('I am ' + age + 'years old') -->  this code produces an ERROR\n",
    "# strings can be concatenated with strings only\n",
    "# age is an integer, so a better way is embedding variables within string statements.\n",
    "print(f'My name is {name}')\n",
    "print(f'I am {age} years old')\n",
    "# f turns the strings into f-strings. These strings are evaluated at runtime\n",
    "# In a string, each character will have an index. And like arrays, string indexes are zero-based\n",
    "name = 'Farhan'\n",
    "print(name[0])\n",
    "print(name[1])\n",
    "# the output is F and a, in two lines\n",
    "print(name[0:3])\n",
    "# the output is Far, because is not included the character at the ending index\n",
    "print(len(name)) # output: 6"
   ]
  },
  {
   "cell_type": "code",
   "execution_count": null,
   "id": "bee82810-6243-4e01-9cf7-fa917a6cbcf4",
   "metadata": {},
   "outputs": [],
   "source": [
    "# STRING METHODS\n",
    "print('python is awesome'.capitalize()) # Python is awesome\n",
    "print('python is awesome'.upper()) # PYTHON IS AWESOME\n",
    "print('PYTHON IS AWESOME'.lower()) # python is awesome\n",
    "print('PYTHON IS AWESOME'.islower()) # false\n",
    "print('PYTHON IS AWESOME'.isupper()) # true\n",
    "print('python is awesome'.replace('python', 'freeCodeCamp')) # freeCodeCamp is awesome\n",
    "print('python is awesome'.split(' '))\n",
    "'''The method takes a delimiter to split the string on. Here, I've used space as the delimiter. \n",
    "Output of this code will be ['python', 'is', 'awesome']. This is a list. '''\n",
    "print(' '.join(['python', 'is', 'awesome'])) # python is awesome"
   ]
  },
  {
   "cell_type": "code",
   "execution_count": null,
   "id": "0d2bc7c5-605d-491e-9cbd-e144ccdc7bf0",
   "metadata": {},
   "outputs": [],
   "source": [
    "# NUMBERS\n",
    "a = 10\n",
    "b = 5\n",
    "print(a+b)\n",
    "print(a-b)\n",
    "print(a*b)\n",
    "print(a/b)\n",
    "'''even if you perform a division operation between two integers, the result will always be a floating point. \n",
    "If you want the result to be an integer, you can do so as follows:'''\n",
    "print(a//b)\n",
    "\n",
    "# Converting strings into float\n",
    "num1 = \"10.1\"\n",
    "num2 = \"5.3\"\n",
    "result = float(num1) + float(num2)\n",
    "print(result)\n",
    "print(\"{:.1f}\".format(result)) # rounding the number specifying the decimal places"
   ]
  },
  {
   "cell_type": "code",
   "execution_count": null,
   "id": "3eb700ef-672f-460c-acda-71f44148314c",
   "metadata": {},
   "outputs": [],
   "source": [
    "# USER INPUT\n",
    "name = input('What is your name? ')\n",
    "print(f'Your name is {name}')"
   ]
  },
  {
   "cell_type": "markdown",
   "id": "5f5132a8",
   "metadata": {},
   "source": [
    "## Lists Dictionaries Tuples and Sets"
   ]
  },
  {
   "cell_type": "code",
   "execution_count": null,
   "id": "1a06d044",
   "metadata": {},
   "outputs": [],
   "source": [
    "#List\n",
    "fruits = [\"apple\", \"banana\", \"cherry\", \"melon\"]\n",
    "print(fruits[1])\n",
    "fruits.append(\"orange\")\n",
    "print(fruits)\n",
    "fruits.insert(1, \"kiwi\")\n",
    "print('Fruits with insertions: ',fruits)\n",
    "print(fruits[0:2])\n",
    "fruits.pop()\n",
    "print('Fruits after pop: ',fruits)\n",
    "fruits.reverse()\n",
    "print('Fruits reversed:', fruits)\n",
    "tamaño = fruits.__len__()\n",
    "print(tamaño)\n",
    "fruits.clear()\n",
    "print('Fruits after clear:', fruits)\n",
    "\n",
    "#List comprehension\n",
    "evenNumbers = [x for x in range(10) if x % 2 == 0]\n",
    "print('Even numbers: ',evenNumbers)\n"
   ]
  },
  {
   "cell_type": "code",
   "execution_count": null,
   "id": "cf3a10b4",
   "metadata": {},
   "outputs": [],
   "source": [
    "#Dictionary\n",
    "dictionary = {\"name\": \"Farhan\", \"age\": 27}\n",
    "print(dictionary[\"name\"])\n",
    "print(dictionary.get(\"age\"))\n",
    "dictkeys = dictionary.keys()\n",
    "print('Keys of dictionary:', dictkeys)\n",
    "dictvalues = dictionary.values()\n",
    "print('Values of dictionary:', dictvalues)\n",
    "dictionary.pop(\"name\")\n",
    "print('Dictionary after pop:', dictionary)\n",
    "dictionary.update()\n",
    "print('Dictionary after update:', dictionary)"
   ]
  },
  {
   "cell_type": "code",
   "execution_count": null,
   "id": "3ae9b7a3",
   "metadata": {},
   "outputs": [],
   "source": [
    "#Tuples\n",
    "tupla = (\"apple\", \"banana\", \"cherry\", \"melon\")\n",
    "print(tupla)\n",
    "print(tupla[1])\n",
    "print(tupla[0:2])\n",
    "print(tupla.index(\"cherry\"))\n",
    "print(tupla.count(\"apple\"))\n"
   ]
  },
  {
   "cell_type": "code",
   "execution_count": null,
   "id": "172a7a66",
   "metadata": {},
   "outputs": [],
   "source": [
    "# Iterating over tuples\n",
    "tuple1 = ('apple', 'banana', 'cherry')\n",
    "for fruit in tuple1:\n",
    "    print(fruit)"
   ]
  },
  {
   "cell_type": "code",
   "execution_count": null,
   "id": "f575423b",
   "metadata": {},
   "outputs": [],
   "source": [
    "#Sets\n",
    "conjunto = {\"apple\", \"banana\", \"cherry\", \"melon\"}\n",
    "print(conjunto)\n",
    "conjunto.add(\"orange\")\n",
    "print(conjunto)\n",
    "conjunto.remove(\"apple\")\n",
    "print(conjunto)\n",
    "conjunto.discard(\"banana\")\n",
    "print(conjunto)\n",
    "conjunto.clear()\n",
    "print(conjunto)\n"
   ]
  },
  {
   "cell_type": "markdown",
   "id": "ef9d5656",
   "metadata": {},
   "source": [
    "## Operations and Conditionals"
   ]
  },
  {
   "cell_type": "code",
   "execution_count": null,
   "id": "dab8c608-ac69-4268-9415-abefb7daf0bd",
   "metadata": {},
   "outputs": [],
   "source": [
    "a = float(input('First: '))\n",
    "b = float(input('Second: '))\n",
    "op = input('Operation (sum/sub/mul/div): ')\n",
    "\n",
    "if op == 'sum':\n",
    "    print(f'a + b = {a+b}')\n",
    "elif op == 'sub':\n",
    "    print(f'a - b = {a-b}')\n",
    "elif op == 'mul':\n",
    "    print(f'a * b = {a*b}')\n",
    "elif op == 'div':\n",
    "    print(f'a / b = {a/b}')\n",
    "else:\n",
    "    print('Invalid Operation!')"
   ]
  },
  {
   "cell_type": "markdown",
   "id": "5d4e2c04",
   "metadata": {},
   "source": [
    "A match-case is equivalent to a switch-case statement in other programming languages\n",
    "\n"
   ]
  },
  {
   "cell_type": "code",
   "execution_count": null,
   "id": "51dc30fc",
   "metadata": {},
   "outputs": [],
   "source": [
    "a = float(input('First: '))\n",
    "b = float(input('Second: '))\n",
    "op = input('Operation (sum/sub/mul/div): ')\n",
    "\n",
    "if op == 'sum':\n",
    "    print(f'a + b = {a+b}')\n",
    "elif op == 'sub':\n",
    "    print(f'a - b = {a-b}')\n",
    "elif op == 'mul':\n",
    "    print(f'a * b = {a*b}')\n",
    "elif op == 'div':\n",
    "    print(f'a / b = {a/b}')\n",
    "else:\n",
    "    print('Invalid Operation!')"
   ]
  },
  {
   "cell_type": "code",
   "execution_count": null,
   "id": "15f1b65d",
   "metadata": {},
   "outputs": [],
   "source": [
    "#Four loop through a list\n",
    "fruits = [\"apple\", \"banana\", \"cherry\", \"melon\"]\n",
    "for fruit in fruits:\n",
    "    print(fruit)\n",
    "\n",
    "#While loop\n",
    "i = 1\n",
    "while i <= 5:\n",
    "    print(i)\n",
    "    i += 1\n",
    "    "
   ]
  },
  {
   "cell_type": "markdown",
   "id": "31081a14",
   "metadata": {},
   "source": [
    "## File management"
   ]
  },
  {
   "cell_type": "code",
   "execution_count": null,
   "id": "a55b03cf",
   "metadata": {},
   "outputs": [],
   "source": [
    "#Iterate through file if EOF error finds end of file break out of loop\n",
    "#skip over blank lines\n",
    "with open(\"my_file.csv\") as my_other_file:\n",
    "    for line in my_other_file.readlines():\n",
    "        if line.strip():\n",
    "            print(line)\n",
    "        else:\n",
    "            break"
   ]
  },
  {
   "cell_type": "code",
   "execution_count": 2,
   "id": "4f78649f",
   "metadata": {},
   "outputs": [
    {
     "name": "stderr",
     "output_type": "stream",
     "text": [
      "2025-01-04 19:57:46.952 Python[98788:24568204] +[IMKClient subclass]: chose IMKClient_Modern\n"
     ]
    },
    {
     "name": "stdout",
     "output_type": "stream",
     "text": [
      "Selected file:  /Users/antonioalvarezfolgado/Documents/GitHub/LearningJavaScript/js6Functions.js\n",
      "Save file path:  \n"
     ]
    }
   ],
   "source": [
    "#File chooser using python\n",
    "import tkinter as tk\n",
    "from tkinter import filedialog\n",
    "\n",
    "root = tk.Tk()\n",
    "root.withdraw()  # Hide the main window\n",
    "\n",
    "# Open file dialog\n",
    "file_path = filedialog.askopenfilename()\n",
    "print(\"Selected file: \", file_path)\n",
    "\n",
    "# Save file dialog\n",
    "save_path = filedialog.asksaveasfilename()\n",
    "print(\"Save file path: \", save_path)"
   ]
  },
  {
   "cell_type": "markdown",
   "id": "ec2097ff",
   "metadata": {},
   "source": [
    "## Functions"
   ]
  },
  {
   "cell_type": "code",
   "execution_count": null,
   "id": "bd113d35",
   "metadata": {},
   "outputs": [],
   "source": [
    "#Call a function with args and return value\n",
    "def exponent(x:int, y:int) -> int:\n",
    "    return x**y\n",
    "print(exponent(2, 3))\n",
    "\n",
    "#Function generator with yield\n",
    "def countdown(x:int):\n",
    "    while x > 0:\n",
    "        yield x\n",
    "        x -= 1\n",
    "\n",
    "launch = countdown(5)\n",
    "launch.__next__()\n"
   ]
  },
  {
   "cell_type": "code",
   "execution_count": null,
   "id": "291cdf5c",
   "metadata": {},
   "outputs": [],
   "source": [
    "# Returning multiple values from a function\n",
    "def get_coordinates():\n",
    "    x = 10\n",
    "    y = 20\n",
    "    return x, y\n",
    "\n",
    "x, y = get_coordinates()\n",
    "print(\"x =\", x)\n",
    "print(\"y =\", y)\n"
   ]
  },
  {
   "cell_type": "markdown",
   "id": "934542ce",
   "metadata": {},
   "source": [
    "## Enum, Dataclass"
   ]
  },
  {
   "cell_type": "code",
   "execution_count": null,
   "id": "c8fc2c26",
   "metadata": {},
   "outputs": [],
   "source": [
    "#Define enum and match on enum values\n",
    "from enum import Enum\n",
    "class RGB(Enum):\n",
    "    RED = 1\n",
    "    GREEN = 2\n",
    "    BLUE = 3\n",
    "\n",
    "try:\n",
    "    color_input = int(input('Enter color (1 for red, 2 for green, 3 for blue): '))\n",
    "    color = RGB(color_input)\n",
    "    \n",
    "    if color == RGB.RED:\n",
    "        print('Red')\n",
    "    elif color == RGB.GREEN:\n",
    "        print('Green')\n",
    "    elif color == RGB.BLUE:\n",
    "        print('Blue')\n",
    "except ValueError:\n",
    "    print('Invalid color')\n",
    "\n",
    "#Define dataclass\n",
    "from dataclasses import dataclass,field\n",
    "@dataclass(frozen=True)\n",
    "class Person:\n",
    "    name: str\n",
    "    job: str\n",
    "    age: int =field(default=0)\n",
    "\n",
    "glitchbyte = Person('Farhan', 'Developer', 27)\n",
    "print(glitchbyte.name)\n",
    "print(glitchbyte.job)\n"
   ]
  },
  {
   "cell_type": "markdown",
   "id": "2097e238",
   "metadata": {},
   "source": [
    "## Classes"
   ]
  },
  {
   "cell_type": "code",
   "execution_count": null,
   "id": "01a7a7f0",
   "metadata": {},
   "outputs": [],
   "source": [
    "#Define class object and object methods\n",
    "class Stack(object):\n",
    "    def __init__(self):\n",
    "        self.stack = []\n",
    "    \n",
    "    def push(self, object):\n",
    "        self.stack.append(object)\n",
    "    \n",
    "    def pop(self):\n",
    "        if self.stack:\n",
    "            return self.stack.pop()\n",
    "        else:\n",
    "            return None\n",
    "    \n",
    "    def length(self):\n",
    "        return len(self.stack)\n",
    "\n",
    "#Instantiate class object and call methods\n",
    "stack = Stack()\n",
    "stack.push('Glitchbyte')\n",
    "print(stack.length())\n",
    "stack.pop()\n",
    "print(stack)\n",
    "del stack #destroy object\n",
    "print(stack.length())"
   ]
  },
  {
   "cell_type": "markdown",
   "id": "8d727c72",
   "metadata": {},
   "source": [
    "## Google search with Python"
   ]
  },
  {
   "cell_type": "code",
   "execution_count": null,
   "id": "5761b656-d4b7-4cf6-9f3c-4fa88760ad9d",
   "metadata": {},
   "outputs": [],
   "source": [
    "#Google search using Python\n",
    "%pip install google\n",
    "from googlesearch import search\n",
    "\n",
    "query = input('Enter your query: ')\n",
    "for url in search(query):\n",
    "    print(url)\n"
   ]
  }
 ],
 "metadata": {
  "kernelspec": {
   "display_name": "Python 3",
   "language": "python",
   "name": "python3"
  },
  "language_info": {
   "codemirror_mode": {
    "name": "ipython",
    "version": 3
   },
   "file_extension": ".py",
   "mimetype": "text/x-python",
   "name": "python",
   "nbconvert_exporter": "python",
   "pygments_lexer": "ipython3",
   "version": "3.9.6"
  }
 },
 "nbformat": 4,
 "nbformat_minor": 5
}
