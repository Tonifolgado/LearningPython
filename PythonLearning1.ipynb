{
 "cells": [
  {
   "cell_type": "code",
   "execution_count": 1,
   "id": "0b12d68f-c3d3-4afd-bf4b-d0119ec4998e",
   "metadata": {},
   "outputs": [
    {
     "name": "stdout",
     "output_type": "stream",
     "text": [
      "<class 'str'>\n",
      "<class 'int'>\n",
      "<class 'float'>\n",
      "<class 'complex'>\n",
      "<class 'bool'>\n",
      "Mi cadena de texto\n",
      "<class 'NoneType'>\n"
     ]
    }
   ],
   "source": [
    "# Cómo consultar el tipo de dato\n",
    "print(type(\"Soy un dato str\"))  # Tipo 'str'\n",
    "print(type(5))  # Tipo 'int'\n",
    "print(type(1.5))  # Tipo 'float'\n",
    "print(type(3 + 1j))  # Tipo 'complex'\n",
    "print(type(True))  # Tipo 'bool'\n",
    "print(type(print(\"Mi cadena de texto\")))  # Tipo 'NoneType'"
   ]
  },
  {
   "cell_type": "markdown",
   "id": "ad4563e7-1a6d-42dc-a0dc-0bc5a44f5f1f",
   "metadata": {},
   "source": [
    "## Esto es un ejemplo de un comentario en formato markdown"
   ]
  },
  {
   "cell_type": "code",
   "execution_count": 2,
   "id": "3d864d30-428e-4e49-a4b1-7331f2bbd692",
   "metadata": {},
   "outputs": [
    {
     "name": "stdout",
     "output_type": "stream",
     "text": [
      "Hello, World!\n",
      "Hello, World! | 100 | 10\n"
     ]
    }
   ],
   "source": [
    "print('Hello, World!')\n",
    "''' print() functions as new line character by default and you can override this default behavior as follows:\n",
    "    any string passed as the value of the end parameter will be used as the terminating character of the printed line'''\n",
    "print('Hello, World!', end=' | ')\n",
    "print(100, end=' | ')\n",
    "print(5 + 5)"
   ]
  },
  {
   "cell_type": "code",
   "execution_count": 3,
   "id": "3f23db88-caef-4fc0-bf2f-a3605af447ca",
   "metadata": {},
   "outputs": [
    {
     "name": "stdout",
     "output_type": "stream",
     "text": [
      "My name is Farhan\n",
      "My name is Farhan\n",
      "I am 27 years old\n",
      "F\n",
      "a\n",
      "Far\n",
      "6\n"
     ]
    }
   ],
   "source": [
    "# VARIABLES\n",
    "name = 'Farhan'\n",
    "age = 27\n",
    "print('My name is ' + name)\n",
    "# print('I am ' + age + 'years old') -->  this code produces an ERROR\n",
    "# strings can be concatenated with strings only\n",
    "# age is an integer, so a better way is embedding variables within string statements.\n",
    "print(f'My name is {name}')\n",
    "print(f'I am {age} years old')\n",
    "# f turns the strings into f-strings. These strings are evaluated at runtime\n",
    "# In a string, each character will have an index. And like arrays, string indexes are zero-based\n",
    "name = 'Farhan'\n",
    "print(name[0])\n",
    "print(name[1])\n",
    "# the output is F and a, in two lines\n",
    "print(name[0:3])\n",
    "# the output is Far, because is not included the character at the ending index\n",
    "print(len(name)) # output: 6"
   ]
  },
  {
   "cell_type": "code",
   "execution_count": 4,
   "id": "bee82810-6243-4e01-9cf7-fa917a6cbcf4",
   "metadata": {},
   "outputs": [
    {
     "name": "stdout",
     "output_type": "stream",
     "text": [
      "Python is awesome\n",
      "PYTHON IS AWESOME\n",
      "python is awesome\n",
      "False\n",
      "True\n",
      "freeCodeCamp is awesome\n",
      "['python', 'is', 'awesome']\n",
      "python is awesome\n"
     ]
    }
   ],
   "source": [
    "# STRING METHODS\n",
    "print('python is awesome'.capitalize()) # Python is awesome\n",
    "print('python is awesome'.upper()) # PYTHON IS AWESOME\n",
    "print('PYTHON IS AWESOME'.lower()) # python is awesome\n",
    "print('PYTHON IS AWESOME'.islower()) # false\n",
    "print('PYTHON IS AWESOME'.isupper()) # true\n",
    "print('python is awesome'.replace('python', 'freeCodeCamp')) # freeCodeCamp is awesome\n",
    "print('python is awesome'.split(' '))\n",
    "'''The method takes a delimiter to split the string on. Here, I've used space as the delimiter. \n",
    "Output of this code will be ['python', 'is', 'awesome']. This is a list. '''\n",
    "print(' '.join(['python', 'is', 'awesome'])) # python is awesome"
   ]
  },
  {
   "cell_type": "code",
   "execution_count": 5,
   "id": "0d2bc7c5-605d-491e-9cbd-e144ccdc7bf0",
   "metadata": {},
   "outputs": [
    {
     "name": "stdout",
     "output_type": "stream",
     "text": [
      "15\n",
      "5\n",
      "50\n",
      "2.0\n",
      "2\n",
      "15.399999999999999\n",
      "15.4\n"
     ]
    }
   ],
   "source": [
    "# NUMBERS\n",
    "a = 10\n",
    "b = 5\n",
    "print(a+b)\n",
    "print(a-b)\n",
    "print(a*b)\n",
    "print(a/b)\n",
    "'''even if you perform a division operation between two integers, the result will always be a floating point. \n",
    "If you want the result to be an integer, you can do so as follows:'''\n",
    "print(a//b)\n",
    "\n",
    "# Converting strings into float\n",
    "num1 = \"10.1\"\n",
    "num2 = \"5.3\"\n",
    "result = float(num1) + float(num2)\n",
    "print(result)\n",
    "print(\"{:.1f}\".format(result)) # rounding the number specifying the decimal places"
   ]
  },
  {
   "cell_type": "code",
   "execution_count": 6,
   "id": "3eb700ef-672f-460c-acda-71f44148314c",
   "metadata": {},
   "outputs": [
    {
     "name": "stdin",
     "output_type": "stream",
     "text": [
      "What is your name?  pepe\n"
     ]
    },
    {
     "name": "stdout",
     "output_type": "stream",
     "text": [
      "Your name is pepe\n"
     ]
    }
   ],
   "source": [
    "# USER INPUT\n",
    "name = input('What is your name? ')\n",
    "print(f'Your name is {name}')"
   ]
  },
  {
   "cell_type": "code",
   "execution_count": 7,
   "id": "dab8c608-ac69-4268-9415-abefb7daf0bd",
   "metadata": {},
   "outputs": [
    {
     "name": "stdin",
     "output_type": "stream",
     "text": [
      "First:  34\n",
      "Second:  45\n",
      "Operation (sum/sub/mul/div):  mul\n"
     ]
    },
    {
     "name": "stdout",
     "output_type": "stream",
     "text": [
      "a * b = 1530.0\n"
     ]
    },
    {
     "name": "stdin",
     "output_type": "stream",
     "text": [
      "First:  5\n",
      "Second:  6\n",
      "Operation (sum/sub/mul/div):  div\n"
     ]
    },
    {
     "name": "stdout",
     "output_type": "stream",
     "text": [
      "a / b = 0.8333333333333334\n"
     ]
    }
   ],
   "source": [
    "# CONDITIONALS\n",
    "a = float(input('First: '))\n",
    "b = float(input('Second: '))\n",
    "op = input('Operation (sum/sub/mul/div): ')\n",
    "\n",
    "if op == 'sum':\n",
    "    print(f'a + b = {a+b}')\n",
    "elif op == 'sub':\n",
    "    print(f'a - b = {a-b}')\n",
    "elif op == 'mul':\n",
    "    print(f'a * b = {a*b}')\n",
    "elif op == 'div':\n",
    "    print(f'a / b = {a/b}')\n",
    "else:\n",
    "    print('Invalid Operation!')\n",
    "\n",
    "# a match-case is equivalent to a switch-case statement in other programming languages\n",
    "a = float(input('First: '))\n",
    "b = float(input('Second: '))\n",
    "op = input('Operation (sum/sub/mul/div): ')\n",
    "\n",
    "match op:\n",
    "    case 'sum':\n",
    "        print(f'a + b = {a+b}')\n",
    "    case 'sub':\n",
    "        print(f'a - b = {a-b}')\n",
    "    case 'mul':\n",
    "        print(f'a * b = {a*b}')\n",
    "    case 'div':\n",
    "        print(f'a / b = {a/b}')\n",
    "    case _:\n",
    "        print('Invalid Operation!')"
   ]
  },
  {
   "cell_type": "code",
   "execution_count": null,
   "id": "5761b656-d4b7-4cf6-9f3c-4fa88760ad9d",
   "metadata": {},
   "outputs": [],
   "source": []
  }
 ],
 "metadata": {
  "kernelspec": {
   "display_name": "Python 3 (ipykernel)",
   "language": "python",
   "name": "python3"
  },
  "language_info": {
   "codemirror_mode": {
    "name": "ipython",
    "version": 3
   },
   "file_extension": ".py",
   "mimetype": "text/x-python",
   "name": "python",
   "nbconvert_exporter": "python",
   "pygments_lexer": "ipython3",
   "version": "3.12.4"
  }
 },
 "nbformat": 4,
 "nbformat_minor": 5
}
